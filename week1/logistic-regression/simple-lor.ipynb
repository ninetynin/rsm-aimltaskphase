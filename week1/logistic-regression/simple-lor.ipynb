{
 "cells": [
  {
   "cell_type": "code",
   "execution_count": 18,
   "metadata": {},
   "outputs": [],
   "source": [
    "import yfinance as yf\n",
    "import pandas as pd\n",
    "import numpy as np\n",
    "import matplotlib.pyplot as plt"
   ]
  },
  {
   "cell_type": "code",
   "execution_count": 72,
   "metadata": {},
   "outputs": [
    {
     "name": "stderr",
     "output_type": "stream",
     "text": [
      "C:\\Users\\anand\\AppData\\Local\\Temp\\ipykernel_19396\\2661248710.py:6: SettingWithCopyWarning: \n",
      "A value is trying to be set on a copy of a slice from a DataFrame\n",
      "\n",
      "See the caveats in the documentation: https://pandas.pydata.org/pandas-docs/stable/user_guide/indexing.html#returning-a-view-versus-a-copy\n",
      "  x[i] = x[i].strftime(\"%d%m%Y%H%M\")\n"
     ]
    },
    {
     "data": {
      "text/html": [
       "<div>\n",
       "<style scoped>\n",
       "    .dataframe tbody tr th:only-of-type {\n",
       "        vertical-align: middle;\n",
       "    }\n",
       "\n",
       "    .dataframe tbody tr th {\n",
       "        vertical-align: top;\n",
       "    }\n",
       "\n",
       "    .dataframe thead th {\n",
       "        text-align: right;\n",
       "    }\n",
       "</style>\n",
       "<table border=\"1\" class=\"dataframe\">\n",
       "  <thead>\n",
       "    <tr style=\"text-align: right;\">\n",
       "      <th></th>\n",
       "      <th>Datetime</th>\n",
       "      <th>Open</th>\n",
       "      <th>High</th>\n",
       "      <th>Low</th>\n",
       "      <th>Close</th>\n",
       "      <th>Volume</th>\n",
       "      <th>change</th>\n",
       "    </tr>\n",
       "  </thead>\n",
       "  <tbody>\n",
       "    <tr>\n",
       "      <th>0</th>\n",
       "      <td>080320230915</td>\n",
       "      <td>1623.550049</td>\n",
       "      <td>1639.500000</td>\n",
       "      <td>1621.050049</td>\n",
       "      <td>1635.650024</td>\n",
       "      <td>0</td>\n",
       "      <td>1</td>\n",
       "    </tr>\n",
       "    <tr>\n",
       "      <th>1</th>\n",
       "      <td>080320231015</td>\n",
       "      <td>1635.949951</td>\n",
       "      <td>1636.000000</td>\n",
       "      <td>1627.000000</td>\n",
       "      <td>1627.300049</td>\n",
       "      <td>1391150</td>\n",
       "      <td>0</td>\n",
       "    </tr>\n",
       "    <tr>\n",
       "      <th>2</th>\n",
       "      <td>080320231115</td>\n",
       "      <td>1627.000000</td>\n",
       "      <td>1629.550049</td>\n",
       "      <td>1621.000000</td>\n",
       "      <td>1621.900024</td>\n",
       "      <td>1654036</td>\n",
       "      <td>0</td>\n",
       "    </tr>\n",
       "    <tr>\n",
       "      <th>3</th>\n",
       "      <td>080320231215</td>\n",
       "      <td>1622.050049</td>\n",
       "      <td>1628.849976</td>\n",
       "      <td>1621.800049</td>\n",
       "      <td>1625.349976</td>\n",
       "      <td>2103264</td>\n",
       "      <td>1</td>\n",
       "    </tr>\n",
       "    <tr>\n",
       "      <th>4</th>\n",
       "      <td>080320231315</td>\n",
       "      <td>1625.349976</td>\n",
       "      <td>1632.099976</td>\n",
       "      <td>1624.449951</td>\n",
       "      <td>1630.199951</td>\n",
       "      <td>745443</td>\n",
       "      <td>1</td>\n",
       "    </tr>\n",
       "    <tr>\n",
       "      <th>...</th>\n",
       "      <td>...</td>\n",
       "      <td>...</td>\n",
       "      <td>...</td>\n",
       "      <td>...</td>\n",
       "      <td>...</td>\n",
       "      <td>...</td>\n",
       "      <td>...</td>\n",
       "    </tr>\n",
       "    <tr>\n",
       "      <th>135</th>\n",
       "      <td>060420231115</td>\n",
       "      <td>1658.349976</td>\n",
       "      <td>1663.900024</td>\n",
       "      <td>1656.099976</td>\n",
       "      <td>1658.599976</td>\n",
       "      <td>4717126</td>\n",
       "      <td>1</td>\n",
       "    </tr>\n",
       "    <tr>\n",
       "      <th>136</th>\n",
       "      <td>060420231215</td>\n",
       "      <td>1658.550049</td>\n",
       "      <td>1660.500000</td>\n",
       "      <td>1655.099976</td>\n",
       "      <td>1656.900024</td>\n",
       "      <td>2697771</td>\n",
       "      <td>0</td>\n",
       "    </tr>\n",
       "    <tr>\n",
       "      <th>137</th>\n",
       "      <td>060420231315</td>\n",
       "      <td>1656.900024</td>\n",
       "      <td>1662.300049</td>\n",
       "      <td>1655.500000</td>\n",
       "      <td>1660.949951</td>\n",
       "      <td>5300512</td>\n",
       "      <td>1</td>\n",
       "    </tr>\n",
       "    <tr>\n",
       "      <th>138</th>\n",
       "      <td>060420231415</td>\n",
       "      <td>1660.949951</td>\n",
       "      <td>1669.199951</td>\n",
       "      <td>1660.500000</td>\n",
       "      <td>1665.500000</td>\n",
       "      <td>3346263</td>\n",
       "      <td>1</td>\n",
       "    </tr>\n",
       "    <tr>\n",
       "      <th>139</th>\n",
       "      <td>060420231515</td>\n",
       "      <td>1665.550049</td>\n",
       "      <td>1666.900024</td>\n",
       "      <td>1664.000000</td>\n",
       "      <td>1666.349976</td>\n",
       "      <td>0</td>\n",
       "      <td>1</td>\n",
       "    </tr>\n",
       "  </tbody>\n",
       "</table>\n",
       "<p>140 rows × 7 columns</p>\n",
       "</div>"
      ],
      "text/plain": [
       "         Datetime         Open         High          Low        Close  \\\n",
       "0    080320230915  1623.550049  1639.500000  1621.050049  1635.650024   \n",
       "1    080320231015  1635.949951  1636.000000  1627.000000  1627.300049   \n",
       "2    080320231115  1627.000000  1629.550049  1621.000000  1621.900024   \n",
       "3    080320231215  1622.050049  1628.849976  1621.800049  1625.349976   \n",
       "4    080320231315  1625.349976  1632.099976  1624.449951  1630.199951   \n",
       "..            ...          ...          ...          ...          ...   \n",
       "135  060420231115  1658.349976  1663.900024  1656.099976  1658.599976   \n",
       "136  060420231215  1658.550049  1660.500000  1655.099976  1656.900024   \n",
       "137  060420231315  1656.900024  1662.300049  1655.500000  1660.949951   \n",
       "138  060420231415  1660.949951  1669.199951  1660.500000  1665.500000   \n",
       "139  060420231515  1665.550049  1666.900024  1664.000000  1666.349976   \n",
       "\n",
       "      Volume  change  \n",
       "0          0       1  \n",
       "1    1391150       0  \n",
       "2    1654036       0  \n",
       "3    2103264       1  \n",
       "4     745443       1  \n",
       "..       ...     ...  \n",
       "135  4717126       1  \n",
       "136  2697771       0  \n",
       "137  5300512       1  \n",
       "138  3346263       1  \n",
       "139        0       1  \n",
       "\n",
       "[140 rows x 7 columns]"
      ]
     },
     "execution_count": 72,
     "metadata": {},
     "output_type": "execute_result"
    }
   ],
   "source": [
    "\n",
    "stoc = yf.Ticker(\"HDFCBANK.NS\")\n",
    "hist = stoc.history(period=\"1mo\", interval=\"1h\", actions=False)\n",
    "hist = hist.reset_index()\n",
    "x = hist[\"Datetime\"]\n",
    "for i in range(len(x)):\n",
    "    x[i] = x[i].strftime(\"%d%m%Y%H%M\")\n",
    "hist[\"change\"] = hist.apply(lambda row: 1 if row[\"Close\"] > row[\"Open\"] else 0, axis=1)\n",
    "# hist\n",
    "# df = hist[[\"Datetime\", \"change\"]]\n",
    "df = hist\n",
    "df"
   ]
  },
  {
   "cell_type": "code",
   "execution_count": 75,
   "metadata": {},
   "outputs": [
    {
     "data": {
      "image/png": "[encoded data removed]",
      "text/plain": [
       "<Figure size 640x480 with 1 Axes>"
      ]
     },
     "metadata": {},
     "output_type": "display_data"
    }
   ],
   "source": [
    "# plt.plot(df[\"Datetime\"], df[\"change\"]*1500)\n",
    "# plt.plot(df[\"Datetime\"], df[\"Close\"])\n",
    "plt.scatter(df[\"Datetime\"], df[\"change\"])\n",
    "plt.show()"
   ]
  },
  {
   "cell_type": "code",
   "execution_count": 77,
   "metadata": {},
   "outputs": [],
   "source": [
    "x = df.drop([\"change\"], axis=1)\n",
    "y = df[\"change\"]"
   ]
  },
  {
   "cell_type": "code",
   "execution_count": 94,
   "metadata": {},
   "outputs": [],
   "source": [
    "from sklearn.model_selection import train_test_split\n",
    "x_train, x_test, y_train, y_test = train_test_split(x, y, test_size=0.5, random_state=69) #50% test data as smaller dataset"
   ]
  },
  {
   "cell_type": "code",
   "execution_count": 96,
   "metadata": {},
   "outputs": [],
   "source": [
    "# x_train,x_test\n",
    "# y_train,y_test"
   ]
  },
  {
   "cell_type": "code",
   "execution_count": 100,
   "metadata": {},
   "outputs": [],
   "source": [
    "from sklearn.preprocessing import StandardScaler\n",
    "scaler = StandardScaler()\n",
    "x_train_scaled = scaler.fit_transform(x_train) #fitting the training data because random_state is set to 69 im not exactly sure about that once verify when checking this again\n",
    "x_test_scaled = scaler.transform(x_test)\n",
    "#here we are not fitting the test data as we want to use the same mean and standard deviation as the training data "
   ]
  },
  {
   "cell_type": "code",
   "execution_count": 103,
   "metadata": {},
   "outputs": [
    {
     "data": {
      "text/plain": [
       "array([0, 0, 0, 1, 0, 1, 1, 0, 1, 0, 1, 0, 1, 1, 0, 0, 1, 1, 1, 0, 0, 0,\n",
       "       1, 0, 1, 0, 0, 1, 0, 0, 0, 1, 1, 1, 1, 1, 1, 1, 0, 0, 1, 0, 1, 1,\n",
       "       0, 0, 0, 1, 0, 0, 0, 0, 0, 0, 0, 0, 1, 0, 1, 0, 0, 0, 0, 0, 0, 0,\n",
       "       0, 1, 0, 1], dtype=int64)"
      ]
     },
     "execution_count": 103,
     "metadata": {},
     "output_type": "execute_result"
    }
   ],
   "source": [
    "from sklearn.linear_model import LogisticRegression\n",
    "lor = LogisticRegression(random_state=0).fit(x_train_scaled, y_train)\n",
    "lor.predict(x_train_scaled)"
   ]
  },
  {
   "cell_type": "code",
   "execution_count": 104,
   "metadata": {},
   "outputs": [
    {
     "data": {
      "text/plain": [
       "0.8142857142857143"
      ]
     },
     "execution_count": 104,
     "metadata": {},
     "output_type": "execute_result"
    }
   ],
   "source": [
    "lor.score(x_train_scaled, y_train)"
   ]
  },
  {
   "cell_type": "code",
   "execution_count": 106,
   "metadata": {},
   "outputs": [
    {
     "data": {
      "text/plain": [
       "0.5571428571428572"
      ]
     },
     "execution_count": 106,
     "metadata": {},
     "output_type": "execute_result"
    }
   ],
   "source": [
    "lor.score(x_test_scaled, y_train)"
   ]
  },
  {
   "attachments": {},
   "cell_type": "markdown",
   "metadata": {},
   "source": [
    "the model isnt good"
   ]
  },
  {
   "cell_type": "code",
   "execution_count": 110,
   "metadata": {},
   "outputs": [],
   "source": [
    "x_train, x_test, y_train, y_test = train_test_split(x, y, test_size=0.3, random_state=20)\n",
    "scaler = StandardScaler()\n",
    "x_train_scaled = scaler.fit_transform(x_train)\n",
    "x_test_scaled = scaler.transform(x_test)\n",
    "lor = LogisticRegression(random_state=0,C=1,fit_intercept=True).fit(x_train_scaled, y_train)"
   ]
  },
  {
   "cell_type": "code",
   "execution_count": 111,
   "metadata": {},
   "outputs": [
    {
     "data": {
      "text/plain": [
       "(0.8061224489795918, 0.8809523809523809)"
      ]
     },
     "execution_count": 111,
     "metadata": {},
     "output_type": "execute_result"
    }
   ],
   "source": [
    "lor.score(x_train_scaled, y_train), lor.score(x_test_scaled, y_test)"
   ]
  },
  {
   "attachments": {},
   "cell_type": "markdown",
   "metadata": {},
   "source": [
    "test3 the above model is working fine but this next test model is just without using scaling"
   ]
  },
  {
   "cell_type": "code",
   "execution_count": 112,
   "metadata": {},
   "outputs": [
    {
     "data": {
      "text/plain": [
       "(0.5408163265306123, 0.5238095238095238)"
      ]
     },
     "execution_count": 112,
     "metadata": {},
     "output_type": "execute_result"
    }
   ],
   "source": [
    "x_train, x_test, y_train, y_test = train_test_split(x, y, test_size=0.3, random_state=20)\n",
    "lor = LogisticRegression(random_state=0,C=1,fit_intercept=True).fit(x_train, y_train)\n",
    "lor.score(x_train, y_train), lor.score(x_test, y_test)"
   ]
  },
  {
   "attachments": {},
   "cell_type": "markdown",
   "metadata": {},
   "source": [
    "without even training test now"
   ]
  },
  {
   "cell_type": "code",
   "execution_count": 113,
   "metadata": {},
   "outputs": [
    {
     "data": {
      "text/plain": [
       "0.5357142857142857"
      ]
     },
     "execution_count": 113,
     "metadata": {},
     "output_type": "execute_result"
    }
   ],
   "source": [
    "lor.score(x, y)"
   ]
  },
  {
   "attachments": {},
   "cell_type": "markdown",
   "metadata": {},
   "source": [
    "keeping test size 0.5"
   ]
  },
  {
   "cell_type": "code",
   "execution_count": 118,
   "metadata": {},
   "outputs": [
    {
     "data": {
      "text/plain": [
       "(0.5714285714285714, 0.39285714285714285)"
      ]
     },
     "execution_count": 118,
     "metadata": {},
     "output_type": "execute_result"
    }
   ],
   "source": [
    "x_train, x_test, y_train, y_test = train_test_split(x, y, test_size=0.2, random_state=20)\n",
    "lor = LogisticRegression(random_state=0,C=1,fit_intercept=True).fit(x_train, y_train) #default for c is usually 0.01\n",
    "lor.score(x_train, y_train), lor.score(x_test, y_test)"
   ]
  }
 ],
 "metadata": {
  "kernelspec": {
   "display_name": "base",
   "language": "python",
   "name": "python3"
  },
  "language_info": {
   "codemirror_mode": {
    "name": "ipython",
    "version": 3
   },
   "file_extension": ".py",
   "mimetype": "text/x-python",
   "name": "python",
   "nbconvert_exporter": "python",
   "pygments_lexer": "ipython3",
   "version": "3.10.9"
  },
  "orig_nbformat": 4
 },
 "nbformat": 4,
 "nbformat_minor": 2
}
