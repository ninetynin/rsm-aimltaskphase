{
 "cells": [
  {
   "attachments": {},
   "cell_type": "markdown",
   "metadata": {},
   "source": [
    "## simple linear regression on stock data\n",
    "\n",
    "* sample stock : rhfl\n",
    "* tutorial followed : cs229a concept + https://www.youtube.com/watch?v=feDJkDaNuOk implementation"
   ]
  },
  {
   "cell_type": "code",
   "execution_count": 34,
   "metadata": {},
   "outputs": [],
   "source": [
    "import pandas as pd\n",
    "import numpy as np\n",
    "import matplotlib.pyplot as plt\n",
    "# import seaborn as sns\n",
    "from sklearn import linear_model\n",
    "import requests as req\n",
    "\n",
    "#testing\n",
    "from sklearn.model_selection import train_test_split"
   ]
  },
  {
   "cell_type": "code",
   "execution_count": 35,
   "metadata": {},
   "outputs": [
    {
     "data": {
      "text/html": [
       "<div>\n",
       "<style scoped>\n",
       "    .dataframe tbody tr th:only-of-type {\n",
       "        vertical-align: middle;\n",
       "    }\n",
       "\n",
       "    .dataframe tbody tr th {\n",
       "        vertical-align: top;\n",
       "    }\n",
       "\n",
       "    .dataframe thead th {\n",
       "        text-align: right;\n",
       "    }\n",
       "</style>\n",
       "<table border=\"1\" class=\"dataframe\">\n",
       "  <thead>\n",
       "    <tr style=\"text-align: right;\">\n",
       "      <th></th>\n",
       "      <th>time</th>\n",
       "      <th>open</th>\n",
       "      <th>high</th>\n",
       "      <th>low</th>\n",
       "      <th>close</th>\n",
       "      <th>volume</th>\n",
       "    </tr>\n",
       "  </thead>\n",
       "  <tbody>\n",
       "    <tr>\n",
       "      <th>0</th>\n",
       "      <td>1678247100</td>\n",
       "      <td>2.95</td>\n",
       "      <td>2.95</td>\n",
       "      <td>2.85</td>\n",
       "      <td>2.85</td>\n",
       "      <td>296863</td>\n",
       "    </tr>\n",
       "    <tr>\n",
       "      <th>1</th>\n",
       "      <td>1678254300</td>\n",
       "      <td>2.90</td>\n",
       "      <td>2.90</td>\n",
       "      <td>2.85</td>\n",
       "      <td>2.90</td>\n",
       "      <td>412996</td>\n",
       "    </tr>\n",
       "    <tr>\n",
       "      <th>2</th>\n",
       "      <td>1678261500</td>\n",
       "      <td>2.85</td>\n",
       "      <td>2.95</td>\n",
       "      <td>2.85</td>\n",
       "      <td>2.90</td>\n",
       "      <td>957365</td>\n",
       "    </tr>\n",
       "    <tr>\n",
       "      <th>3</th>\n",
       "      <td>1678268700</td>\n",
       "      <td>2.95</td>\n",
       "      <td>2.95</td>\n",
       "      <td>2.90</td>\n",
       "      <td>2.95</td>\n",
       "      <td>989967</td>\n",
       "    </tr>\n",
       "    <tr>\n",
       "      <th>4</th>\n",
       "      <td>1678333500</td>\n",
       "      <td>2.95</td>\n",
       "      <td>2.95</td>\n",
       "      <td>2.85</td>\n",
       "      <td>2.85</td>\n",
       "      <td>345961</td>\n",
       "    </tr>\n",
       "    <tr>\n",
       "      <th>...</th>\n",
       "      <td>...</td>\n",
       "      <td>...</td>\n",
       "      <td>...</td>\n",
       "      <td>...</td>\n",
       "      <td>...</td>\n",
       "      <td>...</td>\n",
       "    </tr>\n",
       "    <tr>\n",
       "      <th>73</th>\n",
       "      <td>1680673500</td>\n",
       "      <td>3.00</td>\n",
       "      <td>3.00</td>\n",
       "      <td>3.00</td>\n",
       "      <td>3.00</td>\n",
       "      <td>403622</td>\n",
       "    </tr>\n",
       "    <tr>\n",
       "      <th>74</th>\n",
       "      <td>1680680700</td>\n",
       "      <td>3.00</td>\n",
       "      <td>3.00</td>\n",
       "      <td>3.00</td>\n",
       "      <td>3.00</td>\n",
       "      <td>437257</td>\n",
       "    </tr>\n",
       "    <tr>\n",
       "      <th>75</th>\n",
       "      <td>1680688440</td>\n",
       "      <td>3.00</td>\n",
       "      <td>3.00</td>\n",
       "      <td>3.00</td>\n",
       "      <td>3.00</td>\n",
       "      <td>438999</td>\n",
       "    </tr>\n",
       "    <tr>\n",
       "      <th>76</th>\n",
       "      <td>1680752700</td>\n",
       "      <td>3.30</td>\n",
       "      <td>3.30</td>\n",
       "      <td>3.30</td>\n",
       "      <td>3.30</td>\n",
       "      <td>511433</td>\n",
       "    </tr>\n",
       "    <tr>\n",
       "      <th>77</th>\n",
       "      <td>1680760080</td>\n",
       "      <td>3.30</td>\n",
       "      <td>3.30</td>\n",
       "      <td>3.30</td>\n",
       "      <td>3.30</td>\n",
       "      <td>540363</td>\n",
       "    </tr>\n",
       "  </tbody>\n",
       "</table>\n",
       "<p>78 rows × 6 columns</p>\n",
       "</div>"
      ],
      "text/plain": [
       "          time  open  high   low  close  volume\n",
       "0   1678247100  2.95  2.95  2.85   2.85  296863\n",
       "1   1678254300  2.90  2.90  2.85   2.90  412996\n",
       "2   1678261500  2.85  2.95  2.85   2.90  957365\n",
       "3   1678268700  2.95  2.95  2.90   2.95  989967\n",
       "4   1678333500  2.95  2.95  2.85   2.85  345961\n",
       "..         ...   ...   ...   ...    ...     ...\n",
       "73  1680673500  3.00  3.00  3.00   3.00  403622\n",
       "74  1680680700  3.00  3.00  3.00   3.00  437257\n",
       "75  1680688440  3.00  3.00  3.00   3.00  438999\n",
       "76  1680752700  3.30  3.30  3.30   3.30  511433\n",
       "77  1680760080  3.30  3.30  3.30   3.30  540363\n",
       "\n",
       "[78 rows x 6 columns]"
      ]
     },
     "execution_count": 35,
     "metadata": {},
     "output_type": "execute_result"
    }
   ],
   "source": [
    "# url = \"https://groww.in/v1/api/charting_service/v2/chart/exchange/BSE/segment/CASH/517166/monthly?intervalInMinutes=30&minimal=true\"\n",
    "rhfl_url = \"https://groww.in/v1/api/charting_service/v2/chart/exchange/NSE/segment/CASH/RHFL/monthly?intervalInMinutes=120\"\n",
    "response = req.get(rhfl_url)\n",
    "data = response.json()\n",
    "# print(data)\n",
    "# print(data['candles'][0])\n",
    "# print(len(data['candles']))\n",
    "c = 0\n",
    "# for i in data['candles']:\n",
    "    # #todo decode what is in candles[0]\n",
    "    # i[0] = c\n",
    "    # c += 1\n",
    "    # # i[3] = data['candles'][i+1] - i\n",
    "data = pd.DataFrame(data['candles'], columns=['time', 'open', 'high', 'low', 'close', 'volume'])\n",
    "data #8mar-6apr data of rhfl"
   ]
  },
  {
   "cell_type": "code",
   "execution_count": 36,
   "metadata": {},
   "outputs": [
    {
     "data": {
      "image/png": "[encoded data removed]",
      "text/plain": [
       "<Figure size 640x480 with 1 Axes>"
      ]
     },
     "metadata": {},
     "output_type": "display_data"
    }
   ],
   "source": [
    "x = data['time']\n",
    "y = data['close']\n",
    "z = data['volume']\n",
    "plt.scatter(x, y, color='red', marker='*')\n",
    "# plt.scatter(x, z, color='blue')\n",
    "plt.xlabel('time')\n",
    "plt.ylabel('price')\n",
    "plt.show()"
   ]
  },
  {
   "cell_type": "code",
   "execution_count": 37,
   "metadata": {},
   "outputs": [
    {
     "name": "stdout",
     "output_type": "stream",
     "text": [
      "70    1680508020\n",
      "63    1680083160\n",
      "0     1678247100\n",
      "14    1678693500\n",
      "30    1679039220\n",
      "74    1680680700\n",
      "38    1679384760\n",
      "62    1680075960\n",
      "13    1678686300\n",
      "32    1679283900\n",
      "35    1679305500\n",
      "10    1678434300\n",
      "2     1678261500\n",
      "72    1680666300\n",
      "58    1679989500\n",
      "55    1679910300\n",
      "22    1678866300\n",
      "75    1680688440\n",
      "43    1679478480\n",
      "52    1679888700\n",
      "1     1678254300\n",
      "36    1679370300\n",
      "60    1680061500\n",
      "76    1680752700\n",
      "33    1679291100\n",
      "19    1678787460\n",
      "57    1679982300\n",
      "26    1678952760\n",
      "15    1678700760\n",
      "41    1679464080\n",
      "48    1679629500\n",
      "21    1678859100\n",
      "68    1680493500\n",
      "64    1680234300\n",
      "66    1680248700\n",
      "49    1679636700\n",
      "12    1678679100\n",
      "45    1679550360\n",
      "6     1678347900\n",
      "51    1679651100\n",
      "25    1678945500\n",
      "39    1679391960\n",
      "31    1679046420\n",
      "54    1679903100\n",
      "73    1680673500\n",
      "40    1679456700\n",
      "Name: time, dtype: int64\n"
     ]
    }
   ],
   "source": [
    "X_train, X_test, y_train, y_test = train_test_split(x, y, test_size=0.4, random_state=23) #40% test data && random state is see\n",
    "print(X_train)"
   ]
  },
  {
   "cell_type": "code",
   "execution_count": 54,
   "metadata": {},
   "outputs": [
    {
     "data": {
      "text/plain": [
       "70    2.75\n",
       "63    2.40\n",
       "0     2.85\n",
       "14    2.75\n",
       "30    2.70\n",
       "74    3.00\n",
       "38    2.65\n",
       "62    2.35\n",
       "13    2.75\n",
       "32    2.60\n",
       "35    2.65\n",
       "10    2.85\n",
       "2     2.90\n",
       "72    3.00\n",
       "58    2.35\n",
       "55    2.50\n",
       "22    2.75\n",
       "75    3.00\n",
       "43    2.75\n",
       "52    2.50\n",
       "1     2.90\n",
       "36    2.70\n",
       "60    2.35\n",
       "76    3.30\n",
       "33    2.65\n",
       "19    2.80\n",
       "57    2.30\n",
       "26    2.70\n",
       "15    2.75\n",
       "41    2.65\n",
       "48    2.60\n",
       "21    2.80\n",
       "68    2.65\n",
       "64    2.40\n",
       "66    2.50\n",
       "49    2.65\n",
       "12    2.80\n",
       "45    2.65\n",
       "6     2.90\n",
       "51    2.55\n",
       "25    2.65\n",
       "39    2.60\n",
       "31    2.70\n",
       "54    2.50\n",
       "73    3.00\n",
       "40    2.65\n",
       "Name: close, dtype: float64"
      ]
     },
     "execution_count": 54,
     "metadata": {},
     "output_type": "execute_result"
    }
   ],
   "source": [
    "y_train"
   ]
  },
  {
   "cell_type": "code",
   "execution_count": 38,
   "metadata": {},
   "outputs": [
    {
     "name": "stdout",
     "output_type": "stream",
     "text": [
      "[[1680508020]\n",
      " [1680083160]\n",
      " [1678247100]\n",
      " [1678693500]\n",
      " [1679039220]\n",
      " [1680680700]\n",
      " [1679384760]\n",
      " [1680075960]\n",
      " [1678686300]\n",
      " [1679283900]\n",
      " [1679305500]\n",
      " [1678434300]\n",
      " [1678261500]\n",
      " [1680666300]\n",
      " [1679989500]\n",
      " [1679910300]\n",
      " [1678866300]\n",
      " [1680688440]\n",
      " [1679478480]\n",
      " [1679888700]\n",
      " [1678254300]\n",
      " [1679370300]\n",
      " [1680061500]\n",
      " [1680752700]\n",
      " [1679291100]\n",
      " [1678787460]\n",
      " [1679982300]\n",
      " [1678952760]\n",
      " [1678700760]\n",
      " [1679464080]\n",
      " [1679629500]\n",
      " [1678859100]\n",
      " [1680493500]\n",
      " [1680234300]\n",
      " [1680248700]\n",
      " [1679636700]\n",
      " [1678679100]\n",
      " [1679550360]\n",
      " [1678347900]\n",
      " [1679651100]\n",
      " [1678945500]\n",
      " [1679391960]\n",
      " [1679046420]\n",
      " [1679903100]\n",
      " [1680673500]\n",
      " [1679456700]]\n"
     ]
    }
   ],
   "source": [
    "X_train = np.array(X_train).reshape(-1, 1)\n",
    "X_test = np.array(X_test).reshape(-1, 1)\n",
    "print(X_train)"
   ]
  },
  {
   "cell_type": "code",
   "execution_count": 33,
   "metadata": {},
   "outputs": [],
   "source": [
    "lr = linear_model.LinearRegression()"
   ]
  },
  {
   "cell_type": "code",
   "execution_count": 39,
   "metadata": {},
   "outputs": [
    {
     "data": {
      "text/html": [
       "<style>#sk-container-id-1 {color: black;background-color: white;}#sk-container-id-1 pre{padding: 0;}#sk-container-id-1 div.sk-toggleable {background-color: white;}#sk-container-id-1 label.sk-toggleable__label {cursor: pointer;display: block;width: 100%;margin-bottom: 0;padding: 0.3em;box-sizing: border-box;text-align: center;}#sk-container-id-1 label.sk-toggleable__label-arrow:before {content: \"▸\";float: left;margin-right: 0.25em;color: #696969;}#sk-container-id-1 label.sk-toggleable__label-arrow:hover:before {color: black;}#sk-container-id-1 div.sk-estimator:hover label.sk-toggleable__label-arrow:before {color: black;}#sk-container-id-1 div.sk-toggleable__content {max-height: 0;max-width: 0;overflow: hidden;text-align: left;background-color: #f0f8ff;}#sk-container-id-1 div.sk-toggleable__content pre {margin: 0.2em;color: black;border-radius: 0.25em;background-color: #f0f8ff;}#sk-container-id-1 input.sk-toggleable__control:checked~div.sk-toggleable__content {max-height: 200px;max-width: 100%;overflow: auto;}#sk-container-id-1 input.sk-toggleable__control:checked~label.sk-toggleable__label-arrow:before {content: \"▾\";}#sk-container-id-1 div.sk-estimator input.sk-toggleable__control:checked~label.sk-toggleable__label {background-color: #d4ebff;}#sk-container-id-1 div.sk-label input.sk-toggleable__control:checked~label.sk-toggleable__label {background-color: #d4ebff;}#sk-container-id-1 input.sk-hidden--visually {border: 0;clip: rect(1px 1px 1px 1px);clip: rect(1px, 1px, 1px, 1px);height: 1px;margin: -1px;overflow: hidden;padding: 0;position: absolute;width: 1px;}#sk-container-id-1 div.sk-estimator {font-family: monospace;background-color: #f0f8ff;border: 1px dotted black;border-radius: 0.25em;box-sizing: border-box;margin-bottom: 0.5em;}#sk-container-id-1 div.sk-estimator:hover {background-color: #d4ebff;}#sk-container-id-1 div.sk-parallel-item::after {content: \"\";width: 100%;border-bottom: 1px solid gray;flex-grow: 1;}#sk-container-id-1 div.sk-label:hover label.sk-toggleable__label {background-color: #d4ebff;}#sk-container-id-1 div.sk-serial::before {content: \"\";position: absolute;border-left: 1px solid gray;box-sizing: border-box;top: 0;bottom: 0;left: 50%;z-index: 0;}#sk-container-id-1 div.sk-serial {display: flex;flex-direction: column;align-items: center;background-color: white;padding-right: 0.2em;padding-left: 0.2em;position: relative;}#sk-container-id-1 div.sk-item {position: relative;z-index: 1;}#sk-container-id-1 div.sk-parallel {display: flex;align-items: stretch;justify-content: center;background-color: white;position: relative;}#sk-container-id-1 div.sk-item::before, #sk-container-id-1 div.sk-parallel-item::before {content: \"\";position: absolute;border-left: 1px solid gray;box-sizing: border-box;top: 0;bottom: 0;left: 50%;z-index: -1;}#sk-container-id-1 div.sk-parallel-item {display: flex;flex-direction: column;z-index: 1;position: relative;background-color: white;}#sk-container-id-1 div.sk-parallel-item:first-child::after {align-self: flex-end;width: 50%;}#sk-container-id-1 div.sk-parallel-item:last-child::after {align-self: flex-start;width: 50%;}#sk-container-id-1 div.sk-parallel-item:only-child::after {width: 0;}#sk-container-id-1 div.sk-dashed-wrapped {border: 1px dashed gray;margin: 0 0.4em 0.5em 0.4em;box-sizing: border-box;padding-bottom: 0.4em;background-color: white;}#sk-container-id-1 div.sk-label label {font-family: monospace;font-weight: bold;display: inline-block;line-height: 1.2em;}#sk-container-id-1 div.sk-label-container {text-align: center;}#sk-container-id-1 div.sk-container {/* jupyter's `normalize.less` sets `[hidden] { display: none; }` but bootstrap.min.css set `[hidden] { display: none !important; }` so we also need the `!important` here to be able to override the default hidden behavior on the sphinx rendered scikit-learn.org. See: https://github.com/scikit-learn/scikit-learn/issues/21755 */display: inline-block !important;position: relative;}#sk-container-id-1 div.sk-text-repr-fallback {display: none;}</style><div id=\"sk-container-id-1\" class=\"sk-top-container\"><div class=\"sk-text-repr-fallback\"><pre>LinearRegression()</pre><b>In a Jupyter environment, please rerun this cell to show the HTML representation or trust the notebook. <br />On GitHub, the HTML representation is unable to render, please try loading this page with nbviewer.org.</b></div><div class=\"sk-container\" hidden><div class=\"sk-item\"><div class=\"sk-estimator sk-toggleable\"><input class=\"sk-toggleable__control sk-hidden--visually\" id=\"sk-estimator-id-1\" type=\"checkbox\" checked><label for=\"sk-estimator-id-1\" class=\"sk-toggleable__label sk-toggleable__label-arrow\">LinearRegression</label><div class=\"sk-toggleable__content\"><pre>LinearRegression()</pre></div></div></div></div></div>"
      ],
      "text/plain": [
       "LinearRegression()"
      ]
     },
     "execution_count": 39,
     "metadata": {},
     "output_type": "execute_result"
    }
   ],
   "source": [
    "lr.fit(X_train, y_train)"
   ]
  },
  {
   "cell_type": "code",
   "execution_count": 43,
   "metadata": {},
   "outputs": [
    {
     "name": "stdout",
     "output_type": "stream",
     "text": [
      "c= 56.79015807481211 m= [-3.22121257e-08]\n"
     ]
    }
   ],
   "source": [
    "c = lr.intercept_\n",
    "m = lr.coef_\n",
    "print('c=',c,'m=', m)"
   ]
  },
  {
   "cell_type": "code",
   "execution_count": 50,
   "metadata": {},
   "outputs": [],
   "source": [
    "# Y_pred_train = m * X_train + c\n",
    "# # print(Y_pred_train)\n",
    "# print(Y_pred_train.flatten())\n",
    "# print(Y_pred_train)"
   ]
  },
  {
   "cell_type": "code",
   "execution_count": 47,
   "metadata": {},
   "outputs": [
    {
     "name": "stdout",
     "output_type": "stream",
     "text": [
      "[2.65742245 2.67110809 2.73025149 2.715872   2.70473562 2.65186006\n",
      " 2.69360504 2.67134002 2.71610392 2.69685396 2.69615818 2.72422138\n",
      " 2.72978763 2.65232391 2.67412508 2.67667628 2.71030574 2.65161074\n",
      " 2.69058612 2.67737206 2.73001956 2.69407083 2.67180581 2.64954079\n",
      " 2.69662203 2.71284535 2.67435701 2.70752068 2.71563814 2.69104998\n",
      " 2.68572145 2.71053767 2.65789017 2.66623955 2.6657757  2.68548952\n",
      " 2.71633585 2.68827071 2.72700451 2.68502566 2.70775454 2.69337312\n",
      " 2.70450369 2.67690821 2.65209199 2.6912877 ]\n"
     ]
    }
   ],
   "source": [
    "y_pred_train1 = lr.predict(X_train)\n",
    "print(y_pred_train1)"
   ]
  },
  {
   "cell_type": "code",
   "execution_count": 51,
   "metadata": {},
   "outputs": [
    {
     "data": {
      "image/png": "[encoded data removed]",
      "text/plain": [
       "<Figure size 640x480 with 1 Axes>"
      ]
     },
     "metadata": {},
     "output_type": "display_data"
    }
   ],
   "source": [
    "plt.scatter(X_train, y_train, color='blue', marker='*')\n",
    "plt.plot(X_train, y_pred_train1, color='red')\n",
    "plt.xlabel('time')\n",
    "plt.ylabel('price')\n",
    "plt.show()"
   ]
  },
  {
   "cell_type": "code",
   "execution_count": 53,
   "metadata": {},
   "outputs": [
    {
     "data": {
      "image/png": "[encoded data removed]",
      "text/plain": [
       "<Figure size 640x480 with 1 Axes>"
      ]
     },
     "metadata": {},
     "output_type": "display_data"
    }
   ],
   "source": [
    "y_pred_test1 = lr.predict(X_test)\n",
    "plt.scatter(X_test, y_test, color='blue', marker='*')\n",
    "plt.plot(X_test, y_pred_test1, color='red')\n",
    "plt.xlabel('time')\n",
    "plt.ylabel('price')\n",
    "plt.show()"
   ]
  }
 ],
 "metadata": {
  "kernelspec": {
   "display_name": "base",
   "language": "python",
   "name": "python3"
  },
  "language_info": {
   "codemirror_mode": {
    "name": "ipython",
    "version": 3
   },
   "file_extension": ".py",
   "mimetype": "text/x-python",
   "name": "python",
   "nbconvert_exporter": "python",
   "pygments_lexer": "ipython3",
   "version": "3.10.9"
  },
  "orig_nbformat": 4
 },
 "nbformat": 4,
 "nbformat_minor": 2
}
