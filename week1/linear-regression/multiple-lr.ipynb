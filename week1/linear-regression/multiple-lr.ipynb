{
 "cells": [
  {
   "cell_type": "code",
   "execution_count": 60,
   "metadata": {},
   "outputs": [],
   "source": [
    "import yfinance as yf\n",
    "import pandas as pd\n",
    "import numpy as np\n",
    "import matplotlib.pyplot as plt\n",
    "import seaborn as sns"
   ]
  },
  {
   "cell_type": "code",
   "execution_count": 61,
   "metadata": {},
   "outputs": [
    {
     "data": {
      "text/html": [
       "<div>\n",
       "<style scoped>\n",
       "    .dataframe tbody tr th:only-of-type {\n",
       "        vertical-align: middle;\n",
       "    }\n",
       "\n",
       "    .dataframe tbody tr th {\n",
       "        vertical-align: top;\n",
       "    }\n",
       "\n",
       "    .dataframe thead th {\n",
       "        text-align: right;\n",
       "    }\n",
       "</style>\n",
       "<table border=\"1\" class=\"dataframe\">\n",
       "  <thead>\n",
       "    <tr style=\"text-align: right;\">\n",
       "      <th></th>\n",
       "      <th>Open</th>\n",
       "      <th>High</th>\n",
       "      <th>Low</th>\n",
       "      <th>Close</th>\n",
       "      <th>Volume</th>\n",
       "    </tr>\n",
       "    <tr>\n",
       "      <th>Datetime</th>\n",
       "      <th></th>\n",
       "      <th></th>\n",
       "      <th></th>\n",
       "      <th></th>\n",
       "      <th></th>\n",
       "    </tr>\n",
       "  </thead>\n",
       "  <tbody>\n",
       "    <tr>\n",
       "      <th>2023-04-09 00:00:00+00:00</th>\n",
       "      <td>0.000889</td>\n",
       "      <td>0.000890</td>\n",
       "      <td>0.000889</td>\n",
       "      <td>0.000890</td>\n",
       "      <td>12718080</td>\n",
       "    </tr>\n",
       "    <tr>\n",
       "      <th>2023-04-09 00:05:00+00:00</th>\n",
       "      <td>0.000891</td>\n",
       "      <td>0.000892</td>\n",
       "      <td>0.000891</td>\n",
       "      <td>0.000892</td>\n",
       "      <td>11048960</td>\n",
       "    </tr>\n",
       "    <tr>\n",
       "      <th>2023-04-09 00:10:00+00:00</th>\n",
       "      <td>0.000892</td>\n",
       "      <td>0.000894</td>\n",
       "      <td>0.000892</td>\n",
       "      <td>0.000894</td>\n",
       "      <td>26077184</td>\n",
       "    </tr>\n",
       "    <tr>\n",
       "      <th>2023-04-09 00:15:00+00:00</th>\n",
       "      <td>0.000894</td>\n",
       "      <td>0.000894</td>\n",
       "      <td>0.000894</td>\n",
       "      <td>0.000894</td>\n",
       "      <td>19481600</td>\n",
       "    </tr>\n",
       "    <tr>\n",
       "      <th>2023-04-09 00:20:00+00:00</th>\n",
       "      <td>0.000894</td>\n",
       "      <td>0.000894</td>\n",
       "      <td>0.000894</td>\n",
       "      <td>0.000894</td>\n",
       "      <td>16003072</td>\n",
       "    </tr>\n",
       "    <tr>\n",
       "      <th>...</th>\n",
       "      <td>...</td>\n",
       "      <td>...</td>\n",
       "      <td>...</td>\n",
       "      <td>...</td>\n",
       "      <td>...</td>\n",
       "    </tr>\n",
       "    <tr>\n",
       "      <th>2023-04-09 04:40:00+00:00</th>\n",
       "      <td>0.000892</td>\n",
       "      <td>0.000892</td>\n",
       "      <td>0.000892</td>\n",
       "      <td>0.000892</td>\n",
       "      <td>4896768</td>\n",
       "    </tr>\n",
       "    <tr>\n",
       "      <th>2023-04-09 04:45:00+00:00</th>\n",
       "      <td>0.000892</td>\n",
       "      <td>0.000892</td>\n",
       "      <td>0.000892</td>\n",
       "      <td>0.000892</td>\n",
       "      <td>4487168</td>\n",
       "    </tr>\n",
       "    <tr>\n",
       "      <th>2023-04-09 04:50:00+00:00</th>\n",
       "      <td>0.000892</td>\n",
       "      <td>0.000892</td>\n",
       "      <td>0.000892</td>\n",
       "      <td>0.000892</td>\n",
       "      <td>2210816</td>\n",
       "    </tr>\n",
       "    <tr>\n",
       "      <th>2023-04-09 04:55:00+00:00</th>\n",
       "      <td>0.000892</td>\n",
       "      <td>0.000892</td>\n",
       "      <td>0.000892</td>\n",
       "      <td>0.000892</td>\n",
       "      <td>2334720</td>\n",
       "    </tr>\n",
       "    <tr>\n",
       "      <th>2023-04-09 05:00:00+00:00</th>\n",
       "      <td>0.000892</td>\n",
       "      <td>0.000892</td>\n",
       "      <td>0.000892</td>\n",
       "      <td>0.000892</td>\n",
       "      <td>4773888</td>\n",
       "    </tr>\n",
       "  </tbody>\n",
       "</table>\n",
       "<p>61 rows × 5 columns</p>\n",
       "</div>"
      ],
      "text/plain": [
       "                               Open      High       Low     Close    Volume\n",
       "Datetime                                                                   \n",
       "2023-04-09 00:00:00+00:00  0.000889  0.000890  0.000889  0.000890  12718080\n",
       "2023-04-09 00:05:00+00:00  0.000891  0.000892  0.000891  0.000892  11048960\n",
       "2023-04-09 00:10:00+00:00  0.000892  0.000894  0.000892  0.000894  26077184\n",
       "2023-04-09 00:15:00+00:00  0.000894  0.000894  0.000894  0.000894  19481600\n",
       "2023-04-09 00:20:00+00:00  0.000894  0.000894  0.000894  0.000894  16003072\n",
       "...                             ...       ...       ...       ...       ...\n",
       "2023-04-09 04:40:00+00:00  0.000892  0.000892  0.000892  0.000892   4896768\n",
       "2023-04-09 04:45:00+00:00  0.000892  0.000892  0.000892  0.000892   4487168\n",
       "2023-04-09 04:50:00+00:00  0.000892  0.000892  0.000892  0.000892   2210816\n",
       "2023-04-09 04:55:00+00:00  0.000892  0.000892  0.000892  0.000892   2334720\n",
       "2023-04-09 05:00:00+00:00  0.000892  0.000892  0.000892  0.000892   4773888\n",
       "\n",
       "[61 rows x 5 columns]"
      ]
     },
     "execution_count": 61,
     "metadata": {},
     "output_type": "execute_result"
    }
   ],
   "source": [
    "stoc = yf.Ticker(\"SHIB-INR\")\n",
    "# hist = stoc.history(period=\"24hrs\")\n",
    "#get last 24hrs data\n",
    "hist = stoc.history(period=\"24hrs\",interval=\"5m\")\n",
    "df = pd.DataFrame(hist,columns=['Open','High','Low','Close','Volume'])\n",
    "df"
   ]
  },
  {
   "cell_type": "code",
   "execution_count": 62,
   "metadata": {},
   "outputs": [
    {
     "data": {
      "text/html": [
       "<div>\n",
       "<style scoped>\n",
       "    .dataframe tbody tr th:only-of-type {\n",
       "        vertical-align: middle;\n",
       "    }\n",
       "\n",
       "    .dataframe tbody tr th {\n",
       "        vertical-align: top;\n",
       "    }\n",
       "\n",
       "    .dataframe thead th {\n",
       "        text-align: right;\n",
       "    }\n",
       "</style>\n",
       "<table border=\"1\" class=\"dataframe\">\n",
       "  <thead>\n",
       "    <tr style=\"text-align: right;\">\n",
       "      <th></th>\n",
       "      <th>Close</th>\n",
       "    </tr>\n",
       "    <tr>\n",
       "      <th>Datetime</th>\n",
       "      <th></th>\n",
       "    </tr>\n",
       "  </thead>\n",
       "  <tbody>\n",
       "    <tr>\n",
       "      <th>2023-04-09 02:10:00+00:00</th>\n",
       "      <td>0.000895</td>\n",
       "    </tr>\n",
       "    <tr>\n",
       "      <th>2023-04-09 02:55:00+00:00</th>\n",
       "      <td>0.000894</td>\n",
       "    </tr>\n",
       "    <tr>\n",
       "      <th>2023-04-09 05:00:00+00:00</th>\n",
       "      <td>0.000892</td>\n",
       "    </tr>\n",
       "    <tr>\n",
       "      <th>2023-04-09 02:20:00+00:00</th>\n",
       "      <td>0.000895</td>\n",
       "    </tr>\n",
       "    <tr>\n",
       "      <th>2023-04-09 00:55:00+00:00</th>\n",
       "      <td>0.000895</td>\n",
       "    </tr>\n",
       "    <tr>\n",
       "      <th>2023-04-09 00:10:00+00:00</th>\n",
       "      <td>0.000894</td>\n",
       "    </tr>\n",
       "    <tr>\n",
       "      <th>2023-04-09 02:50:00+00:00</th>\n",
       "      <td>0.000895</td>\n",
       "    </tr>\n",
       "    <tr>\n",
       "      <th>2023-04-09 04:55:00+00:00</th>\n",
       "      <td>0.000892</td>\n",
       "    </tr>\n",
       "    <tr>\n",
       "      <th>2023-04-09 03:20:00+00:00</th>\n",
       "      <td>0.000892</td>\n",
       "    </tr>\n",
       "    <tr>\n",
       "      <th>2023-04-09 01:50:00+00:00</th>\n",
       "      <td>0.000895</td>\n",
       "    </tr>\n",
       "    <tr>\n",
       "      <th>2023-04-09 00:20:00+00:00</th>\n",
       "      <td>0.000894</td>\n",
       "    </tr>\n",
       "    <tr>\n",
       "      <th>2023-04-09 00:50:00+00:00</th>\n",
       "      <td>0.000894</td>\n",
       "    </tr>\n",
       "    <tr>\n",
       "      <th>2023-04-09 02:30:00+00:00</th>\n",
       "      <td>0.000895</td>\n",
       "    </tr>\n",
       "    <tr>\n",
       "      <th>2023-04-09 03:25:00+00:00</th>\n",
       "      <td>0.000893</td>\n",
       "    </tr>\n",
       "    <tr>\n",
       "      <th>2023-04-09 02:45:00+00:00</th>\n",
       "      <td>0.000895</td>\n",
       "    </tr>\n",
       "    <tr>\n",
       "      <th>2023-04-09 03:35:00+00:00</th>\n",
       "      <td>0.000893</td>\n",
       "    </tr>\n",
       "    <tr>\n",
       "      <th>2023-04-09 04:05:00+00:00</th>\n",
       "      <td>0.000891</td>\n",
       "    </tr>\n",
       "    <tr>\n",
       "      <th>2023-04-09 00:35:00+00:00</th>\n",
       "      <td>0.000894</td>\n",
       "    </tr>\n",
       "    <tr>\n",
       "      <th>2023-04-09 01:10:00+00:00</th>\n",
       "      <td>0.000896</td>\n",
       "    </tr>\n",
       "    <tr>\n",
       "      <th>2023-04-09 02:40:00+00:00</th>\n",
       "      <td>0.000895</td>\n",
       "    </tr>\n",
       "    <tr>\n",
       "      <th>2023-04-09 04:15:00+00:00</th>\n",
       "      <td>0.000891</td>\n",
       "    </tr>\n",
       "    <tr>\n",
       "      <th>2023-04-09 02:25:00+00:00</th>\n",
       "      <td>0.000895</td>\n",
       "    </tr>\n",
       "    <tr>\n",
       "      <th>2023-04-09 03:30:00+00:00</th>\n",
       "      <td>0.000893</td>\n",
       "    </tr>\n",
       "    <tr>\n",
       "      <th>2023-04-09 04:35:00+00:00</th>\n",
       "      <td>0.000892</td>\n",
       "    </tr>\n",
       "    <tr>\n",
       "      <th>2023-04-09 01:30:00+00:00</th>\n",
       "      <td>0.000896</td>\n",
       "    </tr>\n",
       "  </tbody>\n",
       "</table>\n",
       "</div>"
      ],
      "text/plain": [
       "                              Close\n",
       "Datetime                           \n",
       "2023-04-09 02:10:00+00:00  0.000895\n",
       "2023-04-09 02:55:00+00:00  0.000894\n",
       "2023-04-09 05:00:00+00:00  0.000892\n",
       "2023-04-09 02:20:00+00:00  0.000895\n",
       "2023-04-09 00:55:00+00:00  0.000895\n",
       "2023-04-09 00:10:00+00:00  0.000894\n",
       "2023-04-09 02:50:00+00:00  0.000895\n",
       "2023-04-09 04:55:00+00:00  0.000892\n",
       "2023-04-09 03:20:00+00:00  0.000892\n",
       "2023-04-09 01:50:00+00:00  0.000895\n",
       "2023-04-09 00:20:00+00:00  0.000894\n",
       "2023-04-09 00:50:00+00:00  0.000894\n",
       "2023-04-09 02:30:00+00:00  0.000895\n",
       "2023-04-09 03:25:00+00:00  0.000893\n",
       "2023-04-09 02:45:00+00:00  0.000895\n",
       "2023-04-09 03:35:00+00:00  0.000893\n",
       "2023-04-09 04:05:00+00:00  0.000891\n",
       "2023-04-09 00:35:00+00:00  0.000894\n",
       "2023-04-09 01:10:00+00:00  0.000896\n",
       "2023-04-09 02:40:00+00:00  0.000895\n",
       "2023-04-09 04:15:00+00:00  0.000891\n",
       "2023-04-09 02:25:00+00:00  0.000895\n",
       "2023-04-09 03:30:00+00:00  0.000893\n",
       "2023-04-09 04:35:00+00:00  0.000892\n",
       "2023-04-09 01:30:00+00:00  0.000896"
      ]
     },
     "execution_count": 62,
     "metadata": {},
     "output_type": "execute_result"
    }
   ],
   "source": [
    "from sklearn.model_selection import train_test_split\n",
    "X = df[['Open','High','Low','Volume']]\n",
    "y = df['Close']\n",
    "X_train, X_test, y_train, y_test = train_test_split(X, y, test_size=0.4, random_state=0)\n",
    "# pd.DataFrame(X_test)\n",
    "pd.DataFrame(y_test)"
   ]
  },
  {
   "cell_type": "code",
   "execution_count": 63,
   "metadata": {},
   "outputs": [],
   "source": [
    "from sklearn.linear_model import LinearRegression\n",
    "lr = LinearRegression()"
   ]
  },
  {
   "cell_type": "code",
   "execution_count": 64,
   "metadata": {},
   "outputs": [
    {
     "data": {
      "text/html": [
       "<style>#sk-container-id-2 {color: black;background-color: white;}#sk-container-id-2 pre{padding: 0;}#sk-container-id-2 div.sk-toggleable {background-color: white;}#sk-container-id-2 label.sk-toggleable__label {cursor: pointer;display: block;width: 100%;margin-bottom: 0;padding: 0.3em;box-sizing: border-box;text-align: center;}#sk-container-id-2 label.sk-toggleable__label-arrow:before {content: \"▸\";float: left;margin-right: 0.25em;color: #696969;}#sk-container-id-2 label.sk-toggleable__label-arrow:hover:before {color: black;}#sk-container-id-2 div.sk-estimator:hover label.sk-toggleable__label-arrow:before {color: black;}#sk-container-id-2 div.sk-toggleable__content {max-height: 0;max-width: 0;overflow: hidden;text-align: left;background-color: #f0f8ff;}#sk-container-id-2 div.sk-toggleable__content pre {margin: 0.2em;color: black;border-radius: 0.25em;background-color: #f0f8ff;}#sk-container-id-2 input.sk-toggleable__control:checked~div.sk-toggleable__content {max-height: 200px;max-width: 100%;overflow: auto;}#sk-container-id-2 input.sk-toggleable__control:checked~label.sk-toggleable__label-arrow:before {content: \"▾\";}#sk-container-id-2 div.sk-estimator input.sk-toggleable__control:checked~label.sk-toggleable__label {background-color: #d4ebff;}#sk-container-id-2 div.sk-label input.sk-toggleable__control:checked~label.sk-toggleable__label {background-color: #d4ebff;}#sk-container-id-2 input.sk-hidden--visually {border: 0;clip: rect(1px 1px 1px 1px);clip: rect(1px, 1px, 1px, 1px);height: 1px;margin: -1px;overflow: hidden;padding: 0;position: absolute;width: 1px;}#sk-container-id-2 div.sk-estimator {font-family: monospace;background-color: #f0f8ff;border: 1px dotted black;border-radius: 0.25em;box-sizing: border-box;margin-bottom: 0.5em;}#sk-container-id-2 div.sk-estimator:hover {background-color: #d4ebff;}#sk-container-id-2 div.sk-parallel-item::after {content: \"\";width: 100%;border-bottom: 1px solid gray;flex-grow: 1;}#sk-container-id-2 div.sk-label:hover label.sk-toggleable__label {background-color: #d4ebff;}#sk-container-id-2 div.sk-serial::before {content: \"\";position: absolute;border-left: 1px solid gray;box-sizing: border-box;top: 0;bottom: 0;left: 50%;z-index: 0;}#sk-container-id-2 div.sk-serial {display: flex;flex-direction: column;align-items: center;background-color: white;padding-right: 0.2em;padding-left: 0.2em;position: relative;}#sk-container-id-2 div.sk-item {position: relative;z-index: 1;}#sk-container-id-2 div.sk-parallel {display: flex;align-items: stretch;justify-content: center;background-color: white;position: relative;}#sk-container-id-2 div.sk-item::before, #sk-container-id-2 div.sk-parallel-item::before {content: \"\";position: absolute;border-left: 1px solid gray;box-sizing: border-box;top: 0;bottom: 0;left: 50%;z-index: -1;}#sk-container-id-2 div.sk-parallel-item {display: flex;flex-direction: column;z-index: 1;position: relative;background-color: white;}#sk-container-id-2 div.sk-parallel-item:first-child::after {align-self: flex-end;width: 50%;}#sk-container-id-2 div.sk-parallel-item:last-child::after {align-self: flex-start;width: 50%;}#sk-container-id-2 div.sk-parallel-item:only-child::after {width: 0;}#sk-container-id-2 div.sk-dashed-wrapped {border: 1px dashed gray;margin: 0 0.4em 0.5em 0.4em;box-sizing: border-box;padding-bottom: 0.4em;background-color: white;}#sk-container-id-2 div.sk-label label {font-family: monospace;font-weight: bold;display: inline-block;line-height: 1.2em;}#sk-container-id-2 div.sk-label-container {text-align: center;}#sk-container-id-2 div.sk-container {/* jupyter's `normalize.less` sets `[hidden] { display: none; }` but bootstrap.min.css set `[hidden] { display: none !important; }` so we also need the `!important` here to be able to override the default hidden behavior on the sphinx rendered scikit-learn.org. See: https://github.com/scikit-learn/scikit-learn/issues/21755 */display: inline-block !important;position: relative;}#sk-container-id-2 div.sk-text-repr-fallback {display: none;}</style><div id=\"sk-container-id-2\" class=\"sk-top-container\"><div class=\"sk-text-repr-fallback\"><pre>LinearRegression()</pre><b>In a Jupyter environment, please rerun this cell to show the HTML representation or trust the notebook. <br />On GitHub, the HTML representation is unable to render, please try loading this page with nbviewer.org.</b></div><div class=\"sk-container\" hidden><div class=\"sk-item\"><div class=\"sk-estimator sk-toggleable\"><input class=\"sk-toggleable__control sk-hidden--visually\" id=\"sk-estimator-id-2\" type=\"checkbox\" checked><label for=\"sk-estimator-id-2\" class=\"sk-toggleable__label sk-toggleable__label-arrow\">LinearRegression</label><div class=\"sk-toggleable__content\"><pre>LinearRegression()</pre></div></div></div></div></div>"
      ],
      "text/plain": [
       "LinearRegression()"
      ]
     },
     "execution_count": 64,
     "metadata": {},
     "output_type": "execute_result"
    }
   ],
   "source": [
    "lr.fit(X_train,y_train)"
   ]
  },
  {
   "cell_type": "code",
   "execution_count": 65,
   "metadata": {},
   "outputs": [
    {
     "data": {
      "text/plain": [
       "(array([-8.54008999e-01,  8.76920550e-01,  9.80401842e-01,  1.85235786e-15]),\n",
       " -2.9399202145835492e-06)"
      ]
     },
     "execution_count": 65,
     "metadata": {},
     "output_type": "execute_result"
    }
   ],
   "source": [
    "c = lr.coef_\n",
    "m = lr.intercept_\n",
    "c,m"
   ]
  },
  {
   "cell_type": "code",
   "execution_count": 66,
   "metadata": {},
   "outputs": [
    {
     "data": {
      "text/plain": [
       "(Datetime\n",
       " 2023-04-09 00:00:00+00:00    0.000890\n",
       " 2023-04-09 00:05:00+00:00    0.000892\n",
       " 2023-04-09 00:10:00+00:00    0.000894\n",
       " 2023-04-09 00:15:00+00:00    0.000894\n",
       " 2023-04-09 00:20:00+00:00    0.000894\n",
       " Name: Close, dtype: float64,\n",
       " array([0.00089487, 0.00089442, 0.00089215, 0.0008946 , 0.00089501]))"
      ]
     },
     "execution_count": 66,
     "metadata": {},
     "output_type": "execute_result"
    }
   ],
   "source": [
    "y_pred = lr.predict(X_test)\n",
    "y.head(),y_pred[:5]"
   ]
  },
  {
   "cell_type": "code",
   "execution_count": 67,
   "metadata": {},
   "outputs": [
    {
     "data": {
      "image/png": "[encoded data removed]",
      "text/plain": [
       "<Figure size 640x480 with 1 Axes>"
      ]
     },
     "metadata": {},
     "output_type": "display_data"
    }
   ],
   "source": [
    "plt.scatter(y_train,lr.predict(X_train),color='red')\n",
    "plt.xlabel('Actual')\n",
    "plt.ylabel('Predicted')\n",
    "plt.title('Actual vs Predicted')\n",
    "plt.show()"
   ]
  },
  {
   "cell_type": "code",
   "execution_count": 69,
   "metadata": {},
   "outputs": [
    {
     "data": {
      "text/plain": [
       "<matplotlib.collections.PathCollection at 0x1cb10298940>"
      ]
     },
     "execution_count": 69,
     "metadata": {},
     "output_type": "execute_result"
    },
    {
     "data": {
      "image/png": "[encoded data removed]",
      "text/plain": [
       "<Figure size 640x480 with 1 Axes>"
      ]
     },
     "metadata": {},
     "output_type": "display_data"
    }
   ],
   "source": [
    "plt.scatter(y_test,lr.predict(X_test),color='red')\n",
    "#once revisit this after u learn implementing this from scratch in w2 work as im not sure if this is correct"
   ]
  }
 ],
 "metadata": {
  "kernelspec": {
   "display_name": "base",
   "language": "python",
   "name": "python3"
  },
  "language_info": {
   "codemirror_mode": {
    "name": "ipython",
    "version": 3
   },
   "file_extension": ".py",
   "mimetype": "text/x-python",
   "name": "python",
   "nbconvert_exporter": "python",
   "pygments_lexer": "ipython3",
   "version": "3.10.9"
  },
  "orig_nbformat": 4
 },
 "nbformat": 4,
 "nbformat_minor": 2
}
